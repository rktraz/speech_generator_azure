{
 "cells": [
  {
   "cell_type": "code",
   "execution_count": 7,
   "metadata": {},
   "outputs": [],
   "source": [
    "# !pip install pydub\n",
    "# !pip install azure-cognitiveservices-speech"
   ]
  },
  {
   "cell_type": "code",
   "execution_count": 1,
   "metadata": {},
   "outputs": [
    {
     "name": "stderr",
     "output_type": "stream",
     "text": [
      "c:\\Users\\kaharlyr\\AppData\\Local\\miniconda3\\envs\\webapp\\Lib\\site-packages\\pydub\\utils.py:170: RuntimeWarning: Couldn't find ffmpeg or avconv - defaulting to ffmpeg, but may not work\n",
      "  warn(\"Couldn't find ffmpeg or avconv - defaulting to ffmpeg, but may not work\", RuntimeWarning)\n"
     ]
    }
   ],
   "source": [
    "import azure.cognitiveservices.speech as speechsdk\n",
    "from pydub import AudioSegment\n",
    "import os\n",
    "\n",
    "subscription_key = os.getenv('SUBSCRIPTION_KEY')\n",
    "service_region = os.getenv('SERVICE_REGION')\n",
    "translator_endpoint = \"https://api.cognitive.microsofttranslator.com\"\n",
    "speech_config = speechsdk.SpeechConfig(subscription=subscription_key, region=service_region)"
   ]
  },
  {
   "cell_type": "code",
   "execution_count": 3,
   "metadata": {},
   "outputs": [],
   "source": [
    "# Specify the file path\n",
    "# text_sample_file_path = \"L_and_D_text_sample.txt\"\n",
    "text_sample_file_path = \"comms_text_sample_en.txt\"\n",
    "\n",
    "\n",
    "# Read the text from the file and store it in the text_prompt variable\n",
    "with open(text_sample_file_path, \"r\", encoding=\"utf-8\") as file:\n",
    "    text_prompt = file.read()\n"
   ]
  },
  {
   "cell_type": "code",
   "execution_count": 5,
   "metadata": {},
   "outputs": [
    {
     "data": {
      "text/plain": [
       "\"Hello and thank you for calling the WSIB. Our office is closed, and we’re sorry we missed your call. If you're in crisis and need immediate support, call Telehealth Ontario at 1-866-797-0000. In an emergency always call 911. If you know the 10-digit phone number of the person you wish to reach and would like to leave a message, press 1. You can reach us weekdays between 7:30 a.m. and 6:00 p.m. You can also visit wsib.ca/onlineservices to find all the ways to work with us online, 24/7.\""
      ]
     },
     "execution_count": 5,
     "metadata": {},
     "output_type": "execute_result"
    }
   ],
   "source": [
    "text_prompt"
   ]
  },
  {
   "cell_type": "code",
   "execution_count": 7,
   "metadata": {},
   "outputs": [],
   "source": [
    "# voice_styles = {\n",
    "#     \"Cora\": [\"Default\"],\n",
    "#     \"Nancy\": [\"Friendly\"]\n",
    "# }"
   ]
  },
  {
   "cell_type": "code",
   "execution_count": 12,
   "metadata": {},
   "outputs": [],
   "source": [
    "voice_styles = {\n",
    "    # \"Sylvie\": [\"Default\"],\n",
    "    \"Brigitte\": [\"Default\"],\n",
    "    \"Celeste\": [\"Friendly\"]\n",
    "}"
   ]
  },
  {
   "cell_type": "code",
   "execution_count": 13,
   "metadata": {},
   "outputs": [],
   "source": [
    "# voice_styles = {\n",
    "#     \"Aria\": [\"Customer service\", \"Newscast-Casual\", \"Narration-professional\", \"Friendly\", \"Chat\"],\n",
    "#     \"Jason\": [\"Default\", \"Cheerful\"],\n",
    "#     \"Jenny\": [\"Default\", \"Customer service\", \"Newscast\", \"Assistant\", \"Friendly\"],\n",
    "#     \"Guy\": [\"Newscast\", \"Friendly\"]\n",
    "# }"
   ]
  },
  {
   "cell_type": "code",
   "execution_count": 16,
   "metadata": {},
   "outputs": [
    {
     "ename": "ValueError",
     "evalue": "Invalid format specifier '\"27e2f1c8-cfe0-4324-88e2-cd0bafeffe1b\",\"Name\":\"Microsoft Server Speech Text to Speech Voice (fr-Fr, BrigitteNeural)\",\"ShortName\":\"fr-Fr-BrigitteNeural\",\"Locale\":\"fr-Fr\",\"VoiceType\":\"StandardVoice\"' for object of type 'str'",
     "output_type": "error",
     "traceback": [
      "\u001b[1;31m---------------------------------------------------------------------------\u001b[0m",
      "\u001b[1;31mValueError\u001b[0m                                Traceback (most recent call last)",
      "Cell \u001b[1;32mIn[16], line 12\u001b[0m\n\u001b[0;32m      9\u001b[0m \u001b[39mfor\u001b[39;00m style \u001b[39min\u001b[39;00m voice_styles[voice_name]:\n\u001b[0;32m     10\u001b[0m     style \u001b[39m=\u001b[39m style\u001b[39m.\u001b[39mlower()\n\u001b[1;32m---> 12\u001b[0m     ssml_string \u001b[39m=\u001b[39m \u001b[39mf\u001b[39m\u001b[39m\"\"\"\u001b[39m\n\u001b[0;32m     13\u001b[0m \u001b[39m    <!--ID=B7267351-473F-409D-9765-754A8EBCDE05;Version=1|\u001b[39m\u001b[39m{{\u001b[39;00m\u001b[39m\"\u001b[39m\u001b[39mVoiceNameToIdMapItems\u001b[39m\u001b[39m\"\u001b[39m\u001b[39m:[\u001b[39m\u001b[39m{\u001b[39;00m\u001b[39m\"\u001b[39m\u001b[39mId\u001b[39m\u001b[39m\"\u001b[39m\u001b[39m:\u001b[39;00m\u001b[39m\"\u001b[39m\u001b[39m27e2f1c8-cfe0-4324-88e2-cd0bafeffe1b\u001b[39m\u001b[39m\"\u001b[39m\u001b[39m,\u001b[39m\u001b[39m\"\u001b[39m\u001b[39mName\u001b[39m\u001b[39m\"\u001b[39m\u001b[39m:\u001b[39m\u001b[39m\"\u001b[39m\u001b[39mMicrosoft Server Speech Text to Speech Voice (\u001b[39m\u001b[39m{\u001b[39;00mlanguage\u001b[39m}\u001b[39;00m\u001b[39m, \u001b[39m\u001b[39m{\u001b[39;00mvoice_name\u001b[39m}\u001b[39;00m\u001b[39mNeural)\u001b[39m\u001b[39m\"\u001b[39m\u001b[39m,\u001b[39m\u001b[39m\"\u001b[39m\u001b[39mShortName\u001b[39m\u001b[39m\"\u001b[39m\u001b[39m:\u001b[39m\u001b[39m\"\u001b[39m\u001b[39m{\u001b[39;00mlanguage\u001b[39m}\u001b[39;00m\u001b[39m-\u001b[39m\u001b[39m{\u001b[39;00mvoice_name\u001b[39m}\u001b[39;00m\u001b[39mNeural\u001b[39m\u001b[39m\"\u001b[39m\u001b[39m,\u001b[39m\u001b[39m\"\u001b[39m\u001b[39mLocale\u001b[39m\u001b[39m\"\u001b[39m\u001b[39m:\u001b[39m\u001b[39m\"\u001b[39m\u001b[39m{\u001b[39;00mlanguage\u001b[39m}\u001b[39;00m\u001b[39m\"\u001b[39m\u001b[39m,\u001b[39m\u001b[39m\"\u001b[39m\u001b[39mVoiceType\u001b[39m\u001b[39m\"\u001b[39m\u001b[39m:\u001b[39m\u001b[39m\"\u001b[39m\u001b[39mStandardVoice\u001b[39m\u001b[39m\"\u001b[39m\u001b[39m}\u001b[39;00m\u001b[39m]\u001b[39m\u001b[39m}}\u001b[39;00m\u001b[39m-->\u001b[39m\n\u001b[0;32m     14\u001b[0m \u001b[39m    <!--ID=5B95B1CC-2C7B-494F-B746-CF22A0E779B7;Version=1|\u001b[39m\u001b[39m{{\u001b[39;00m\u001b[39m\"\u001b[39m\u001b[39mLocales\u001b[39m\u001b[39m\"\u001b[39m\u001b[39m:\u001b[39m\u001b[39m{{\u001b[39;00m\u001b[39m\"\u001b[39m\u001b[39men-US\u001b[39m\u001b[39m\"\u001b[39m\u001b[39m:\u001b[39m\u001b[39m{{\u001b[39;00m\u001b[39m\"\u001b[39m\u001b[39mAutoApplyCustomLexiconFiles\u001b[39m\u001b[39m\"\u001b[39m\u001b[39m:[\u001b[39m\u001b[39m{{\u001b[39;00m\u001b[39m}}\u001b[39;00m\u001b[39m]\u001b[39m\u001b[39m}}\u001b[39;00m\u001b[39m,\u001b[39m\u001b[39m\"\u001b[39m\u001b[39mde-DE\u001b[39m\u001b[39m\"\u001b[39m\u001b[39m:\u001b[39m\u001b[39m{{\u001b[39;00m\u001b[39m\"\u001b[39m\u001b[39mAutoApplyCustomLexiconFiles\u001b[39m\u001b[39m\"\u001b[39m\u001b[39m:[\u001b[39m\u001b[39m{{\u001b[39;00m\u001b[39m}}\u001b[39;00m\u001b[39m]\u001b[39m\u001b[39m}}\u001b[39;00m\u001b[39m,\u001b[39m\u001b[39m\"\u001b[39m\u001b[39mfr-FR\u001b[39m\u001b[39m\"\u001b[39m\u001b[39m:\u001b[39m\u001b[39m{{\u001b[39;00m\u001b[39m\"\u001b[39m\u001b[39mAutoApplyCustomLexiconFiles\u001b[39m\u001b[39m\"\u001b[39m\u001b[39m:[\u001b[39m\u001b[39m{{\u001b[39;00m\u001b[39m}}\u001b[39;00m\u001b[39m]\u001b[39m\u001b[39m}}\u001b[39;00m\u001b[39m,\u001b[39m\u001b[39m\"\u001b[39m\u001b[39men-CA\u001b[39m\u001b[39m\"\u001b[39m\u001b[39m:\u001b[39m\u001b[39m{{\u001b[39;00m\u001b[39m\"\u001b[39m\u001b[39mAutoApplyCustomLexiconFiles\u001b[39m\u001b[39m\"\u001b[39m\u001b[39m:[\u001b[39m\u001b[39m{{\u001b[39;00m\u001b[39m}}\u001b[39;00m\u001b[39m]\u001b[39m\u001b[39m}}\u001b[39;00m\u001b[39m}}\u001b[39;00m\u001b[39m}}\u001b[39;00m\u001b[39m-->\u001b[39m\n\u001b[0;32m     15\u001b[0m \u001b[39m    <!--ID=FCB40C2B-1F9F-4C26-B1A1-CF8E67BE07D1;Version=1|\u001b[39m\u001b[39m{{\u001b[39;00m\u001b[39m\"\u001b[39m\u001b[39mFiles\u001b[39m\u001b[39m\"\u001b[39m\u001b[39m:\u001b[39m\u001b[39m{{\u001b[39;00m\u001b[39m}}\u001b[39;00m\u001b[39m}}\u001b[39;00m\u001b[39m-->\u001b[39m\n\u001b[0;32m     16\u001b[0m \u001b[39m    <speak xmlns=\u001b[39m\u001b[39m\"\u001b[39m\u001b[39mhttp://www.w3.org/2001/10/synthesis\u001b[39m\u001b[39m\"\u001b[39m\u001b[39m xmlns:mstts=\u001b[39m\u001b[39m\"\u001b[39m\u001b[39mhttp://www.w3.org/2001/mstts\u001b[39m\u001b[39m\"\u001b[39m\u001b[39m xmlns:emo=\u001b[39m\u001b[39m\"\u001b[39m\u001b[39mhttp://www.w3.org/2009/10/emotionml\u001b[39m\u001b[39m\"\u001b[39m\u001b[39m version=\u001b[39m\u001b[39m\"\u001b[39m\u001b[39m1.0\u001b[39m\u001b[39m\"\u001b[39m\u001b[39m xml:lang=\u001b[39m\u001b[39m\"\u001b[39m\u001b[39m{\u001b[39;00mlanguage\u001b[39m}\u001b[39;00m\u001b[39m\"\u001b[39m\u001b[39m><voice name=\u001b[39m\u001b[39m\"\u001b[39m\u001b[39m{\u001b[39;00mlanguage\u001b[39m}\u001b[39;00m\u001b[39m-\u001b[39m\u001b[39m{\u001b[39;00mvoice_name\u001b[39m}\u001b[39;00m\u001b[39mNeural\u001b[39m\u001b[39m\"\u001b[39m\u001b[39m><s /><mstts:express-as style=\u001b[39m\u001b[39m\"\u001b[39m\u001b[39m{\u001b[39;00mstyle\u001b[39m}\u001b[39;00m\u001b[39m\"\u001b[39m\u001b[39m>\u001b[39m\u001b[39m{\u001b[39;00mtext_prompt\u001b[39m}\u001b[39;00m\u001b[39m</mstts:express-as><s /></voice></speak>\u001b[39m\n\u001b[0;32m     17\u001b[0m \u001b[39m    \u001b[39m\u001b[39m\"\"\"\u001b[39m\n\u001b[0;32m     19\u001b[0m     \u001b[39m# ssml_string = \"\"\"\u001b[39;00m\n\u001b[0;32m     20\u001b[0m     \u001b[39m# <!--ID=B7267351-473F-409D-9765-754A8EBCDE05;Version=1|{\"VoiceNameToIdMapItems\":[{\"Id\":\"27e2f1c8-cfe0-4324-88e2-cd0bafeffe1b\",\"Name\":\"Microsoft Server Speech Text to Speech Voice (en-US, %sNeural)\",\"ShortName\":\"en-US-%sNeural\",\"Locale\":\"en-US\",\"VoiceType\":\"StandardVoice\"}]}-->\u001b[39;00m\n\u001b[0;32m     21\u001b[0m     \u001b[39m# <!--ID=5B95B1CC-2C7B-494F-B746-CF22A0E779B7;Version=1|{\"Locales\":{\"en-US\":{\"AutoApplyCustomLexiconFiles\":[{}]},\"de-DE\":{\"AutoApplyCustomLexiconFiles\":[{}]},\"fr-FR\":{\"AutoApplyCustomLexiconFiles\":[{}]},\"en-CA\":{\"AutoApplyCustomLexiconFiles\":[{}]}}}-->\u001b[39;00m\n\u001b[0;32m     22\u001b[0m     \u001b[39m# <!--ID=FCB40C2B-1F9F-4C26-B1A1-CF8E67BE07D1;Version=1|{\"Files\":{}}-->\u001b[39;00m\n\u001b[0;32m     23\u001b[0m     \u001b[39m# <speak xmlns=\"http://www.w3.org/2001/10/synthesis\" xmlns:mstts=\"http://www.w3.org/2001/mstts\" xmlns:emo=\"http://www.w3.org/2009/10/emotionml\" version=\"1.0\" xml:lang=\"en-US\"><voice name=\"en-US-%sNeural\"><s /><mstts:express-as style=\"%s\">%s</mstts:express-as><s /></voice></speak>\u001b[39;00m\n\u001b[0;32m     24\u001b[0m     \u001b[39m# \"\"\" % (voice_name, voice_name, voice_name, style, text_prompt)\u001b[39;00m\n\u001b[0;32m     25\u001b[0m     ssml_string \u001b[39m=\u001b[39m ssml_string\u001b[39m.\u001b[39mstrip()\n",
      "\u001b[1;31mValueError\u001b[0m: Invalid format specifier '\"27e2f1c8-cfe0-4324-88e2-cd0bafeffe1b\",\"Name\":\"Microsoft Server Speech Text to Speech Voice (fr-Fr, BrigitteNeural)\",\"ShortName\":\"fr-Fr-BrigitteNeural\",\"Locale\":\"fr-Fr\",\"VoiceType\":\"StandardVoice\"' for object of type 'str'"
     ]
    }
   ],
   "source": [
    "speech_synthesizer = speechsdk.SpeechSynthesizer(speech_config=speech_config, audio_config=None)\n",
    "\n",
    "low_quality_also = True # set True if you want 8kHz version too\n",
    "\n",
    "for voice_name in voice_styles:\n",
    "    for style in voice_styles[voice_name]:\n",
    "        style = style.lower()\n",
    "\n",
    "        ssml_string = \"\"\"\n",
    "        <!--ID=B7267351-473F-409D-9765-754A8EBCDE05;Version=1|{\"VoiceNameToIdMapItems\":[{\"Id\":\"27e2f1c8-cfe0-4324-88e2-cd0bafeffe1b\",\"Name\":\"Microsoft Server Speech Text to Speech Voice (en-US, %sNeural)\",\"ShortName\":\"en-US-%sNeural\",\"Locale\":\"en-US\",\"VoiceType\":\"StandardVoice\"}]}-->\n",
    "        <!--ID=5B95B1CC-2C7B-494F-B746-CF22A0E779B7;Version=1|{\"Locales\":{\"en-US\":{\"AutoApplyCustomLexiconFiles\":[{}]},\"de-DE\":{\"AutoApplyCustomLexiconFiles\":[{}]},\"fr-FR\":{\"AutoApplyCustomLexiconFiles\":[{}]},\"en-CA\":{\"AutoApplyCustomLexiconFiles\":[{}]}}}-->\n",
    "        <!--ID=FCB40C2B-1F9F-4C26-B1A1-CF8E67BE07D1;Version=1|{\"Files\":{}}-->\n",
    "        <speak xmlns=\"http://www.w3.org/2001/10/synthesis\" xmlns:mstts=\"http://www.w3.org/2001/mstts\" xmlns:emo=\"http://www.w3.org/2009/10/emotionml\" version=\"1.0\" xml:lang=\"en-US\"><voice name=\"en-US-%sNeural\"><s /><mstts:express-as style=\"%s\">%s</mstts:express-as><s /></voice></speak>\n",
    "        \"\"\" % (voice_name, voice_name, voice_name, style, text_prompt)\n",
    "        ssml_string = ssml_string.strip()\n",
    "\n",
    "        \n",
    "        result = speech_synthesizer.speak_ssml_async(ssml_string).get()\n",
    "\n",
    "        stream = speechsdk.AudioDataStream(result)\n",
    "\n",
    "        file_name_24kHz = f\"generated_samples/24kHz/{voice_name}_{style}_24kHz.wav\"\n",
    "        stream.save_to_wav_file(file_name_24kHz)\n",
    "\n",
    "        print(\"Processed\", file_name_24kHz)\n",
    "\n",
    "        if low_quality_also:\n",
    "            # Load the generated audio file (adjust the filename as needed)\n",
    "            audio = AudioSegment.from_wav(file_name_24kHz)\n",
    "\n",
    "            # Set the desired sample rate to 8 kHz\n",
    "            desired_sample_rate = 8000\n",
    "\n",
    "            # Resample the audio to the desired sample rate\n",
    "            audio = audio.set_frame_rate(desired_sample_rate)\n",
    "            file_name_8kHz = f\"generated_samples/8kHz/{voice_name}_{style}_8kHz.wav\"\n",
    "            # Export the resampled audio to a new file\n",
    "            audio.export(file_name_8kHz, format=\"wav\")\n",
    "\n",
    "\n"
   ]
  },
  {
   "cell_type": "code",
   "execution_count": null,
   "metadata": {},
   "outputs": [],
   "source": []
  }
 ],
 "metadata": {
  "kernelspec": {
   "display_name": "webapp",
   "language": "python",
   "name": "python3"
  },
  "language_info": {
   "codemirror_mode": {
    "name": "ipython",
    "version": 3
   },
   "file_extension": ".py",
   "mimetype": "text/x-python",
   "name": "python",
   "nbconvert_exporter": "python",
   "pygments_lexer": "ipython3",
   "version": "3.11.3"
  },
  "orig_nbformat": 4
 },
 "nbformat": 4,
 "nbformat_minor": 2
}
